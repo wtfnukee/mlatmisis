{
 "cells": [
  {
   "cell_type": "markdown",
   "metadata": {},
   "source": [
    "# Домашнее задание 1"
   ]
  },
  {
   "cell_type": "code",
   "execution_count": 2,
   "metadata": {},
   "outputs": [],
   "source": [
    "import numpy as np\n",
    "import pandas as pd\n",
    "import matplotlib.pyplot as plt"
   ]
  },
  {
   "cell_type": "markdown",
   "metadata": {},
   "source": [
    "## Numpy"
   ]
  },
  {
   "cell_type": "markdown",
   "metadata": {},
   "source": [
    "### Создайте двумерный массив 5x5 с 1 на границе и 0 внутри."
   ]
  },
  {
   "cell_type": "code",
   "execution_count": 3,
   "metadata": {},
   "outputs": [],
   "source": [
    "def border():\n",
    "    a = np.zeros((5,5), dtype=int)\n",
    "    a[0] = 1\n",
    "    a[-1] = 1\n",
    "    a[0:8, 0] = 1\n",
    "    a[0:8, -1] = 1\n",
    "    return a"
   ]
  },
  {
   "cell_type": "markdown",
   "metadata": {},
   "source": [
    "### Создайте матрицу 8x8 и заполните ее шахматным узором."
   ]
  },
  {
   "cell_type": "code",
   "execution_count": 2,
   "metadata": {},
   "outputs": [],
   "source": [
    "def checkerboard():\n",
    "    a = np.zeros((8,8), dtype=int)\n",
    "    a[1::2,1::2] = 1\n",
    "    a[0::2,::2] = 1\n",
    "    return a"
   ]
  },
  {
   "cell_type": "markdown",
   "metadata": {},
   "source": [
    "### Вычтите из каждой строки матрицы среднее этой строки"
   ]
  },
  {
   "cell_type": "code",
   "execution_count": null,
   "metadata": {},
   "outputs": [],
   "source": [
    "def sub():\n",
    "    a = np.array([\n",
    "        [1, 2, 3],\n",
    "        [3, 4, 5],\n",
    "        [6, 7, 8]\n",
    "    ])\n",
    "    \n",
    "    for i in range(3):\n",
    "        a[i] -= a[i, 1]\n",
    "\n",
    "    return a"
   ]
  },
  {
   "cell_type": "markdown",
   "metadata": {},
   "source": [
    "### Как отсортировать матрицу по последней строке?"
   ]
  },
  {
   "cell_type": "code",
   "execution_count": null,
   "metadata": {},
   "outputs": [],
   "source": [
    "def sort():\n",
    "    a = np.array([\n",
    "        [1, 2, 3],\n",
    "        [3, 4, 5],\n",
    "        [6, 7, 8]\n",
    "    ])\n",
    "    last = a[-1]\n",
    "    s_ind = np.argsort(last)\n",
    "    return a[:, s_ind]"
   ]
  },
  {
   "cell_type": "markdown",
   "metadata": {},
   "source": [
    "## Pandas"
   ]
  },
  {
   "cell_type": "code",
   "execution_count": 16,
   "metadata": {},
   "outputs": [],
   "source": [
    "data = {'animal': ['cat', 'cat', 'snake', 'dog', 'dog', 'cat', 'snake', 'cat', 'dog', 'dog'],\n",
    "        'age': [2.5, 3, 0.5, np.nan, 5, 2, 4.5, np.nan, 7, 3],\n",
    "        'visits': [1, 3, 2, 3, 2, 3, 1, 1, 2, 1],\n",
    "        'priority': ['yes', 'yes', 'no', 'yes', 'no', 'no', 'no', 'yes', 'no', 'no']}\n",
    "\n",
    "labels = ['a', 'b', 'c', 'd', 'e', 'f', 'g', 'h', 'i', 'j']\n",
    "\n",
    "df = pd.DataFrame(data, index=labels)"
   ]
  },
  {
   "cell_type": "markdown",
   "metadata": {},
   "source": [
    "### Выберите данные в 3, 4, 5 строчке колонок `animal` и `age`"
   ]
  },
  {
   "cell_type": "code",
   "execution_count": 3,
   "metadata": {},
   "outputs": [],
   "source": [
    "def animal_age(df):\n",
    "    ndf = df.loc[['c', 'd', 'e'], ['animal', 'age']]\n",
    "    return ndf"
   ]
  },
  {
   "cell_type": "markdown",
   "metadata": {},
   "source": [
    "### Выберите строки, где животное является котом и возраст меньше 3"
   ]
  },
  {
   "cell_type": "code",
   "execution_count": null,
   "metadata": {},
   "outputs": [],
   "source": [
    "def cats(df):\n",
    "    ndf = df[(df['animal'] == 'cat') & (df['age'] < 3)]\n",
    "    return ndf"
   ]
  },
  {
   "cell_type": "markdown",
   "metadata": {},
   "source": [
    "### Для каждого типа животного и количества посещений найдите средний возраст. Другими словами, каждая строка - это животное, каждый столбец - количество посещений, а значения - средний возраст"
   ]
  },
  {
   "cell_type": "code",
   "execution_count": null,
   "metadata": {},
   "outputs": [],
   "source": [
    "def mean_table(df):\n",
    "    ndf=df.groupby(['animal', 'visits'])['age'].mean().unstack()\n",
    "    return ndf"
   ]
  },
  {
   "cell_type": "markdown",
   "metadata": {},
   "source": [
    "### DataFrame имеет столбец групп 'grps' и столбец целочисленных значений 'vals'. Для каждой группы найдите сумму трех наибольших значений."
   ]
  },
  {
   "cell_type": "code",
   "execution_count": 12,
   "metadata": {},
   "outputs": [],
   "source": [
    "def threesome():\n",
    "    data = {\n",
    "        \"grps\": [\"a\", \"a\", \"a\", \"a\", \"b\", \"b\", \"b\", \"b\"],\n",
    "        \"vals\": [100, 200, 109, 50, 23, 100, 33, 67],\n",
    "    }\n",
    "    df = pd.DataFrame(data)\n",
    "    ndf = df.groupby('grps')['vals'].apply(lambda x: x.nlargest(3).sum())\n",
    "    return ndf"
   ]
  },
  {
   "cell_type": "markdown",
   "metadata": {},
   "source": [
    "## Matplotlib\n",
    "\n",
    "Тут сложно написать тесты, так что надеюсь на вашу честность. Поставьте `True`, если вы сделали задание "
   ]
  },
  {
   "cell_type": "markdown",
   "metadata": {},
   "source": [
    "### Нарисуйте пару смешных графиков для `df` (который с животными)\n",
    "Это не дз по датавизу, если хотите - можем сделать такую пару"
   ]
  },
  {
   "cell_type": "code",
   "execution_count": 1,
   "metadata": {},
   "outputs": [],
   "source": [
    "\n",
    "\n",
    "def plots():\n",
    "    df_clean = df.dropna(subset=['age'])\n",
    "\n",
    "    plt.figure(figsize=(10, 6))\n",
    "    plt.plot(df_clean.index, df_clean['age'], color='red', marker='o', linestyle='-', linewidth=2, markersize=8)\n",
    "    plt.title('Возраст животных')\n",
    "    plt.xlabel('Метка животного')\n",
    "    plt.ylabel('Возраст (лет)')\n",
    "    plt.grid(True)\n",
    "    plt.show()\n",
    "    return True\n"
   ]
  }
 ],
 "metadata": {
  "kernelspec": {
   "display_name": "base",
   "language": "python",
   "name": "python3"
  },
  "language_info": {
   "codemirror_mode": {
    "name": "ipython",
    "version": 3
   },
   "file_extension": ".py",
   "mimetype": "text/x-python",
   "name": "python",
   "nbconvert_exporter": "python",
   "pygments_lexer": "ipython3",
   "version": "3.12.7"
  }
 },
 "nbformat": 4,
 "nbformat_minor": 2
}
